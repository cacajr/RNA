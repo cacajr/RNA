{
 "cells": [
  {
   "cell_type": "markdown",
   "metadata": {},
   "source": [
    "# 1) Defina o que é uma Rede Neural Artificial.\n",
    "### Conjunto de neurônios artificais onde cada neurônio tem como objetivo responder positivamente ou negativamente a uma entrada (estimulo), simulando o funcionamento de neurônios cerebrais.\n",
    "\n",
    "# 2) Quais elementos (dos até então vistos) compõem uma Rede Neural Artifical? Ilustre e exemplifique.\n",
    "### Perceptron e Adaline. Ambos tem como objetivo simular um neurônio específico, respondendo a estimulos. A diferença entre eles está no uso da função de ativação. Enquanto o perceptron aplica a função de ativação durante o aprendizado para averiguar se houve acerto, o Adaline aplica apenas no final do aprendizado.\n",
    "\n",
    "![](./assets/perceptron_adaline.png)\n",
    "\n",
    "Imagem retirada de [Sebastian Raschka](https://sebastianraschka.com/faq/docs/diff-perceptron-adaline-neuralnet.html)\n",
    "\n",
    "# 3) O Perceptron é um classificador linear. Justifique.\n",
    "### É considerado classificador linear pois a função que dita a regra de aprendizado é uma função linear: g(x) = W_0 + x . W^T, onde W representa o vetor de pesos e W_0 representa o bies.\n",
    "\n",
    "![](./assets/graphic.png)\n",
    "\n",
    "Imagem retirada de [David Menotti](https://www.inf.ufpr.br/menotti/ci171-182/slides/ci171-classlinear.pdf)\n",
    "\n",
    "# 4) Qual a diferença entre o Perceptron e o Adaline?\n",
    "### Respondido na questão 2."
   ]
  },
  {
   "cell_type": "markdown",
   "metadata": {},
   "source": [
    "# PARTE A. Perceptron - Conjunto de dados Iris"
   ]
  },
  {
   "cell_type": "code",
   "execution_count": 160,
   "metadata": {},
   "outputs": [
    {
     "data": {
      "text/html": [
       "<div>\n",
       "<style scoped>\n",
       "    .dataframe tbody tr th:only-of-type {\n",
       "        vertical-align: middle;\n",
       "    }\n",
       "\n",
       "    .dataframe tbody tr th {\n",
       "        vertical-align: top;\n",
       "    }\n",
       "\n",
       "    .dataframe thead th {\n",
       "        text-align: right;\n",
       "    }\n",
       "</style>\n",
       "<table border=\"1\" class=\"dataframe\">\n",
       "  <thead>\n",
       "    <tr style=\"text-align: right;\">\n",
       "      <th></th>\n",
       "      <th>sepal-length</th>\n",
       "      <th>petal-length</th>\n",
       "    </tr>\n",
       "  </thead>\n",
       "  <tbody>\n",
       "    <tr>\n",
       "      <th>0</th>\n",
       "      <td>5.1</td>\n",
       "      <td>1.4</td>\n",
       "    </tr>\n",
       "    <tr>\n",
       "      <th>1</th>\n",
       "      <td>4.9</td>\n",
       "      <td>1.4</td>\n",
       "    </tr>\n",
       "    <tr>\n",
       "      <th>2</th>\n",
       "      <td>4.7</td>\n",
       "      <td>1.3</td>\n",
       "    </tr>\n",
       "    <tr>\n",
       "      <th>3</th>\n",
       "      <td>4.6</td>\n",
       "      <td>1.5</td>\n",
       "    </tr>\n",
       "    <tr>\n",
       "      <th>4</th>\n",
       "      <td>5.0</td>\n",
       "      <td>1.4</td>\n",
       "    </tr>\n",
       "  </tbody>\n",
       "</table>\n",
       "</div>"
      ],
      "text/plain": [
       "   sepal-length  petal-length\n",
       "0           5.1           1.4\n",
       "1           4.9           1.4\n",
       "2           4.7           1.3\n",
       "3           4.6           1.5\n",
       "4           5.0           1.4"
      ]
     },
     "execution_count": 160,
     "metadata": {},
     "output_type": "execute_result"
    }
   ],
   "source": [
    "import pandas as pd\n",
    "\n",
    "Xy = pd.read_csv('./datasets/iris_adapted.csv')\n",
    "\n",
    "X = Xy.drop(['sepal-width', 'petal-width', 'class'], axis = 1)\n",
    "y = Xy['class']\n",
    "\n",
    "X.head()"
   ]
  },
  {
   "cell_type": "markdown",
   "metadata": {},
   "source": [
    "# Separando dados de treino e teste"
   ]
  },
  {
   "cell_type": "code",
   "execution_count": 177,
   "metadata": {},
   "outputs": [],
   "source": [
    "from sklearn.model_selection import train_test_split\n",
    "\n",
    "X_train, X_test, y_train, y_test = train_test_split(X, y, test_size = 0.2)"
   ]
  },
  {
   "cell_type": "markdown",
   "metadata": {},
   "source": [
    "# Normalizando os dados de treino"
   ]
  },
  {
   "cell_type": "code",
   "execution_count": 178,
   "metadata": {},
   "outputs": [],
   "source": [
    "from sklearn.preprocessing import StandardScaler\n",
    "\n",
    "X_train_scaler = StandardScaler().fit_transform(X_train)\n",
    "X_train_scaler = pd.DataFrame(X_train_scaler, columns = X_train.columns) # convertendo para DF"
   ]
  },
  {
   "cell_type": "markdown",
   "metadata": {},
   "source": [
    "# Treinando o Perceptron com os dados de treino normalizados"
   ]
  },
  {
   "cell_type": "code",
   "execution_count": 179,
   "metadata": {},
   "outputs": [
    {
     "data": {
      "text/plain": [
       "1.0"
      ]
     },
     "execution_count": 179,
     "metadata": {},
     "output_type": "execute_result"
    }
   ],
   "source": [
    "from perceptron.perceptron import Perceptron\n",
    "\n",
    "cls_perceptron = Perceptron()\n",
    "cls_perceptron.fit(X_train_scaler, y_train)\n",
    "cls_perceptron.score(X_test, y_test)"
   ]
  },
  {
   "cell_type": "markdown",
   "metadata": {},
   "source": [
    "# Matriz de confusão"
   ]
  },
  {
   "cell_type": "code",
   "execution_count": 180,
   "metadata": {},
   "outputs": [
    {
     "data": {
      "text/plain": [
       "array([[24,  0],\n",
       "       [ 0,  6]])"
      ]
     },
     "execution_count": 180,
     "metadata": {},
     "output_type": "execute_result"
    }
   ],
   "source": [
    "from sklearn.metrics import confusion_matrix\n",
    "\n",
    "y_pred = [\n",
    "    cls_perceptron.predict(x)\n",
    "    for x in X_test.values\n",
    "]\n",
    "\n",
    "conf_matrix = confusion_matrix(y_test, y_pred)\n",
    "''' \n",
    "vn = verdadeiros negativos, fp = falsos positivos, \n",
    "fn = falsos negativos, vp = verdadeiros positivos\n",
    "\n",
    "[[vn, fp],\n",
    " [fn, vp]]\n",
    "'''\n",
    "conf_matrix"
   ]
  },
  {
   "cell_type": "markdown",
   "metadata": {},
   "source": [
    "# Superfície de decisão das amostras e reta produzida pelo vetor de pesos"
   ]
  },
  {
   "cell_type": "code",
   "execution_count": 188,
   "metadata": {},
   "outputs": [
    {
     "data": {
      "image/png": "[encoded data removed]",
      "text/plain": [
       "<Figure size 432x288 with 1 Axes>"
      ]
     },
     "metadata": {
      "needs_background": "light"
     },
     "output_type": "display_data"
    }
   ],
   "source": [
    "from matplotlib import pyplot as plt\n",
    "from sklearn.preprocessing import StandardScaler\n",
    "\n",
    "X_test_scaler = StandardScaler().fit_transform(X_test)\n",
    "X_test_scaler = pd.DataFrame(X_test_scaler, columns = X_test.columns) # convertendo para DF\n",
    "\n",
    "plt.scatter(X_test_scaler['sepal-length'], X_test_scaler['petal-length'], c = y_test)\n",
    "\n",
    "W = cls_perceptron.get_weight()\n",
    "\n",
    "b = cls_perceptron.get_bies()\n",
    "w_0 = W[0]\n",
    "w = W[1:]\n",
    "\n",
    "x = X_test_scaler.values.squeeze()\n",
    "# x = np.arange(X_test.min().values.min(), X_test.max().values.max())\n",
    "\n",
    "plt.plot(x, b + x * w, color = 'black')\n",
    "plt.show()"
   ]
  },
  {
   "cell_type": "markdown",
   "metadata": {},
   "source": [
    "# PARTE B. Adaline - Conjunto de dados Sintético"
   ]
  },
  {
   "cell_type": "code",
   "execution_count": 141,
   "metadata": {},
   "outputs": [],
   "source": [
    "import pandas as pd\n",
    "import numpy as np\n",
    "\n",
    "X = pd.DataFrame(\n",
    "    np.random.uniform(0, 99, 100), \n",
    "    columns = ['X_1']\n",
    ")\n",
    "y = pd.Series(\n",
    "    [ \n",
    "        5 * x - 0.5 + np.random.uniform(0, 5) \n",
    "        for x in X.values \n",
    "    ]\n",
    ")"
   ]
  },
  {
   "cell_type": "markdown",
   "metadata": {},
   "source": [
    "# Separando os dados de treino e teste"
   ]
  },
  {
   "cell_type": "code",
   "execution_count": 142,
   "metadata": {},
   "outputs": [],
   "source": [
    "from sklearn.model_selection import train_test_split\n",
    "\n",
    "X_train, X_test, y_train, y_test = train_test_split(X, y, test_size = 0.2)"
   ]
  },
  {
   "cell_type": "markdown",
   "metadata": {},
   "source": [
    "# Treinando o Adaline"
   ]
  },
  {
   "cell_type": "code",
   "execution_count": 143,
   "metadata": {},
   "outputs": [],
   "source": [
    "from adaline.adaline import Adaline\n",
    "\n",
    "cls_adaline = Adaline(eta=0.00001)\n",
    "cls_adaline.fit(X_train, y_train) # caso queira usar os dados normalizados usar o X_train_scaler"
   ]
  },
  {
   "cell_type": "markdown",
   "metadata": {},
   "source": [
    "# Superfície de decisão das amostras e reta produzida pelo vetor de pesos"
   ]
  },
  {
   "cell_type": "code",
   "execution_count": 144,
   "metadata": {},
   "outputs": [
    {
     "data": {
      "image/png": "[encoded data removed]",
      "text/plain": [
       "<Figure size 432x288 with 1 Axes>"
      ]
     },
     "metadata": {
      "needs_background": "light"
     },
     "output_type": "display_data"
    },
    {
     "data": {
      "text/plain": [
       "array([-0.34802449,  5.02864896])"
      ]
     },
     "execution_count": 144,
     "metadata": {},
     "output_type": "execute_result"
    }
   ],
   "source": [
    "from matplotlib import pyplot as plt\n",
    "\n",
    "W = cls_adaline.get_weight()\n",
    "\n",
    "b = cls_adaline.get_bies()\n",
    "w_0 = W[0]\n",
    "w = W[1:]\n",
    "\n",
    "# x = X_test.values.squeeze()\n",
    "x = np.arange(X_test.min().values.min(), X_test.max().values.max())\n",
    "\n",
    "plt.plot(x, b + x * w, color = 'black')\n",
    "\n",
    "plt.scatter(X_test['X_1'], X_test['X_1'], c = y_test)\n",
    "plt.show()\n",
    "W"
   ]
  },
  {
   "cell_type": "markdown",
   "metadata": {},
   "source": [
    "# PARTE C. Adaline - Conjunto de dados Resistência à compressão do concreto"
   ]
  },
  {
   "cell_type": "code",
   "execution_count": 145,
   "metadata": {},
   "outputs": [],
   "source": [
    "import pandas as pd\n",
    "\n",
    "Xy = pd.read_excel('./datasets/concrete_data.xls')\n",
    "\n",
    "X = Xy.drop(Xy.columns[-1], axis = 1)\n",
    "y = Xy[Xy.columns[-1]]"
   ]
  },
  {
   "cell_type": "markdown",
   "metadata": {},
   "source": [
    "# Separando os dados de treino e teste"
   ]
  },
  {
   "cell_type": "code",
   "execution_count": 146,
   "metadata": {},
   "outputs": [],
   "source": [
    "from sklearn.model_selection import train_test_split\n",
    "\n",
    "X_train, X_test, y_train, y_test = train_test_split(X, y, test_size = 0.2)"
   ]
  },
  {
   "cell_type": "markdown",
   "metadata": {},
   "source": [
    "# Normalizando os dados de treino"
   ]
  },
  {
   "cell_type": "code",
   "execution_count": 147,
   "metadata": {},
   "outputs": [],
   "source": [
    "from sklearn.preprocessing import StandardScaler\n",
    "\n",
    "X_train_scaler = StandardScaler().fit_transform(X_train)\n",
    "X_train_scaler = pd.DataFrame(X_train_scaler, columns = X_train.columns) # convertendo para DF"
   ]
  },
  {
   "cell_type": "markdown",
   "metadata": {},
   "source": [
    "# Treinando o Adaline"
   ]
  },
  {
   "cell_type": "code",
   "execution_count": 148,
   "metadata": {},
   "outputs": [],
   "source": [
    "from adaline.adaline import Adaline\n",
    "\n",
    "cls_adaline = Adaline(eta=0.00001)\n",
    "cls_adaline.fit(X_train_scaler, y_train) # caso queira usar os dados normalizados usar o X_train_scaler"
   ]
  },
  {
   "cell_type": "markdown",
   "metadata": {},
   "source": [
    "# Superfície de decisão e reta produzida pelo vetor de pesos"
   ]
  },
  {
   "cell_type": "code",
   "execution_count": 149,
   "metadata": {},
   "outputs": [
    {
     "data": {
      "image/png": "[encoded data removed]",
      "text/plain": [
       "<Figure size 432x288 with 1 Axes>"
      ]
     },
     "metadata": {
      "needs_background": "light"
     },
     "output_type": "display_data"
    }
   ],
   "source": [
    "from matplotlib import pyplot as plt\n",
    "\n",
    "W = cls_adaline.get_weight()\n",
    "\n",
    "b = cls_adaline.get_bies()\n",
    "w_0 = W[0]\n",
    "w = W[1:]\n",
    "\n",
    "# x = X_train_scaler.values.squeeze()\n",
    "x = np.arange(X_train_scaler.min().values.min(), X_train_scaler.max().values.max())\n",
    "\n",
    "plt.plot(x, b + x * w, color = 'black')\n",
    "plt.show()"
   ]
  },
  {
   "cell_type": "markdown",
   "metadata": {},
   "source": [
    "# Separando os dados de treino e teste"
   ]
  },
  {
   "cell_type": "code",
   "execution_count": 156,
   "metadata": {},
   "outputs": [],
   "source": [
    "from sklearn.model_selection import train_test_split\n",
    "\n",
    "X_train, X_test, y_train, y_test = train_test_split(X, y, test_size = 0.5)"
   ]
  },
  {
   "cell_type": "markdown",
   "metadata": {},
   "source": [
    "# Normalizando os dados de treino"
   ]
  },
  {
   "cell_type": "code",
   "execution_count": 157,
   "metadata": {},
   "outputs": [],
   "source": [
    "from sklearn.preprocessing import StandardScaler\n",
    "\n",
    "X_train_scaler = StandardScaler().fit_transform(X_train)\n",
    "X_train_scaler = pd.DataFrame(X_train_scaler, columns = X_train.columns) # convertendo para DF"
   ]
  },
  {
   "cell_type": "markdown",
   "metadata": {},
   "source": [
    "# Treinando o Adaline"
   ]
  },
  {
   "cell_type": "code",
   "execution_count": 158,
   "metadata": {},
   "outputs": [],
   "source": [
    "from adaline.adaline import Adaline\n",
    "\n",
    "cls_adaline = Adaline(eta=0.00001)\n",
    "cls_adaline.fit(X_train_scaler, y_train) # caso queira usar os dados normalizados usar o X_train_scaler"
   ]
  },
  {
   "cell_type": "markdown",
   "metadata": {},
   "source": [
    "# Superfície de decisão"
   ]
  },
  {
   "cell_type": "code",
   "execution_count": 159,
   "metadata": {},
   "outputs": [
    {
     "data": {
      "image/png": "[encoded data removed]",
      "text/plain": [
       "<Figure size 432x288 with 1 Axes>"
      ]
     },
     "metadata": {
      "needs_background": "light"
     },
     "output_type": "display_data"
    }
   ],
   "source": [
    "from matplotlib import pyplot as plt\n",
    "\n",
    "W = cls_adaline.get_weight()\n",
    "\n",
    "b = cls_adaline.get_bies()\n",
    "w_0 = W[0]\n",
    "w = W[1:]\n",
    "\n",
    "# x = X_train_scaler.values.squeeze()\n",
    "x = np.arange(X_train_scaler.min().values.min(), X_train_scaler.max().values.max())\n",
    "\n",
    "plt.plot(x, b + x * w, color = 'black')\n",
    "plt.show()"
   ]
  }
 ],
 "metadata": {
  "interpreter": {
   "hash": "066319d59563df4d7b7ff95868acd23b39837f45dba0073c0261622f7803f98f"
  },
  "kernelspec": {
   "display_name": "Python 3.8.10 64-bit ('.venv': venv)",
   "language": "python",
   "name": "python3"
  },
  "language_info": {
   "codemirror_mode": {
    "name": "ipython",
    "version": 3
   },
   "file_extension": ".py",
   "mimetype": "text/x-python",
   "name": "python",
   "nbconvert_exporter": "python",
   "pygments_lexer": "ipython3",
   "version": "3.8.10"
  },
  "orig_nbformat": 4
 },
 "nbformat": 4,
 "nbformat_minor": 2
}
