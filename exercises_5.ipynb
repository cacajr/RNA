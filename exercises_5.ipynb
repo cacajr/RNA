{
 "cells": [
  {
   "cell_type": "markdown",
   "metadata": {},
   "source": [
    "# Efetuando treino e teste do PerceptronMMQ utilizando o dataset Two Moon"
   ]
  },
  {
   "cell_type": "code",
   "execution_count": 5,
   "metadata": {},
   "outputs": [
    {
     "data": {
      "text/html": [
       "<div>\n",
       "<style scoped>\n",
       "    .dataframe tbody tr th:only-of-type {\n",
       "        vertical-align: middle;\n",
       "    }\n",
       "\n",
       "    .dataframe tbody tr th {\n",
       "        vertical-align: top;\n",
       "    }\n",
       "\n",
       "    .dataframe thead th {\n",
       "        text-align: right;\n",
       "    }\n",
       "</style>\n",
       "<table border=\"1\" class=\"dataframe\">\n",
       "  <thead>\n",
       "    <tr style=\"text-align: right;\">\n",
       "      <th></th>\n",
       "      <th>0</th>\n",
       "      <th>1</th>\n",
       "    </tr>\n",
       "  </thead>\n",
       "  <tbody>\n",
       "    <tr>\n",
       "      <th>0</th>\n",
       "      <td>1.874676</td>\n",
       "      <td>0.015293</td>\n",
       "    </tr>\n",
       "    <tr>\n",
       "      <th>1</th>\n",
       "      <td>-0.874676</td>\n",
       "      <td>0.484707</td>\n",
       "    </tr>\n",
       "    <tr>\n",
       "      <th>2</th>\n",
       "      <td>0.992009</td>\n",
       "      <td>0.126170</td>\n",
       "    </tr>\n",
       "    <tr>\n",
       "      <th>3</th>\n",
       "      <td>1.973225</td>\n",
       "      <td>0.270144</td>\n",
       "    </tr>\n",
       "    <tr>\n",
       "      <th>4</th>\n",
       "      <td>-0.240103</td>\n",
       "      <td>0.970747</td>\n",
       "    </tr>\n",
       "  </tbody>\n",
       "</table>\n",
       "</div>"
      ],
      "text/plain": [
       "          0         1\n",
       "0  1.874676  0.015293\n",
       "1 -0.874676  0.484707\n",
       "2  0.992009  0.126170\n",
       "3  1.973225  0.270144\n",
       "4 -0.240103  0.970747"
      ]
     },
     "execution_count": 5,
     "metadata": {},
     "output_type": "execute_result"
    }
   ],
   "source": [
    "import pandas as pd\n",
    "from datasets import load_two_moon\n",
    "\n",
    "bunch = load_two_moon()\n",
    "nd_X, nd_y = bunch.data, bunch.target\n",
    "X = pd.DataFrame(nd_X)\n",
    "y = pd.Series(nd_y, name='y').replace([0, 1], [-1, 1])\n",
    "\n",
    "X.head()"
   ]
  },
  {
   "cell_type": "code",
   "execution_count": 12,
   "metadata": {},
   "outputs": [],
   "source": [
    "from sklearn.model_selection import train_test_split\n",
    "\n",
    "X_train, X_test, y_train, y_test = train_test_split(X, y, test_size = 0.2)"
   ]
  },
  {
   "cell_type": "code",
   "execution_count": 13,
   "metadata": {},
   "outputs": [],
   "source": [
    "from sklearn.preprocessing import StandardScaler\n",
    "\n",
    "X_train_scaler = StandardScaler().fit_transform(X_train)\n",
    "X_train_scaler = pd.DataFrame(X_train_scaler, columns = X_train.columns) # convertendo para DF"
   ]
  },
  {
   "cell_type": "code",
   "execution_count": 14,
   "metadata": {},
   "outputs": [
    {
     "name": "stdout",
     "output_type": "stream",
     "text": [
      "0.8833333333333333\n",
      "0.9\n"
     ]
    }
   ],
   "source": [
    "from perceptronmmq.perceptronmmq import PerceptronMMQ\n",
    "\n",
    "cls_perceptronmmq = PerceptronMMQ(activation_function='sign')\n",
    "cls_perceptronmmq.fit(X_train, y_train)\n",
    "print(cls_perceptronmmq.score(X_train, y_train))\n",
    "print(cls_perceptronmmq.score(X_test, y_test))"
   ]
  },
  {
   "cell_type": "code",
   "execution_count": 15,
   "metadata": {},
   "outputs": [
    {
     "data": {
      "text/plain": [
       "array([[27,  2],\n",
       "       [ 4, 27]])"
      ]
     },
     "execution_count": 15,
     "metadata": {},
     "output_type": "execute_result"
    }
   ],
   "source": [
    "from sklearn.metrics import confusion_matrix\n",
    "\n",
    "y_pred = [\n",
    "    cls_perceptronmmq.predict(x)\n",
    "    for x in X_test.values\n",
    "]\n",
    "\n",
    "conf_matrix = confusion_matrix(y_test, y_pred)\n",
    "''' \n",
    "vn = verdadeiros negativos, fp = falsos positivos, \n",
    "fn = falsos negativos, vp = verdadeiros positivos\n",
    "\n",
    "[[vn, fp],\n",
    " [fn, vp]]\n",
    "'''\n",
    "conf_matrix"
   ]
  },
  {
   "cell_type": "code",
   "execution_count": 17,
   "metadata": {},
   "outputs": [
    {
     "data": {
      "image/png": "[encoded data removed]",
      "text/plain": [
       "<Figure size 432x288 with 1 Axes>"
      ]
     },
     "metadata": {
      "needs_background": "light"
     },
     "output_type": "display_data"
    }
   ],
   "source": [
    "from matplotlib import pyplot as plt\n",
    "from sklearn.preprocessing import StandardScaler\n",
    "import numpy as np\n",
    "\n",
    "data = X_train_scaler[:][:].values\n",
    "percetrons_weights = cls_perceptronmmq.get_weight()\n",
    "\n",
    "x_ax = np.arange(data[: ,0].min()-1, data[: ,1].max()+1, 0.1)\n",
    "w1 = percetrons_weights[0]\n",
    "w2 = percetrons_weights[1]\n",
    "b = percetrons_weights[2]\n",
    "plt.plot(x_ax, -w1*x_ax/w2 + b/w2, color='black')\n",
    "\n",
    "menosum = np.where(y_train == -1)\n",
    "um = np.where(y_train == 1)\n",
    "plt.scatter(data[menosum, 0], data[menosum, 1],\n",
    "            color='red', marker='o', label='menosum')\n",
    "plt.scatter(data[um, 0], data[um, 1],\n",
    "            color='blue', marker='x', label='um')\n",
    "\n",
    "plt.show()"
   ]
  }
 ],
 "metadata": {
  "interpreter": {
   "hash": "066319d59563df4d7b7ff95868acd23b39837f45dba0073c0261622f7803f98f"
  },
  "kernelspec": {
   "display_name": "Python 3.8.10 64-bit ('.venv': venv)",
   "language": "python",
   "name": "python3"
  },
  "language_info": {
   "codemirror_mode": {
    "name": "ipython",
    "version": 3
   },
   "file_extension": ".py",
   "mimetype": "text/x-python",
   "name": "python",
   "nbconvert_exporter": "python",
   "pygments_lexer": "ipython3",
   "version": "3.8.10"
  },
  "orig_nbformat": 4
 },
 "nbformat": 4,
 "nbformat_minor": 2
}
