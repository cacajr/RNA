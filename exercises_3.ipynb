{
 "cells": [
  {
   "cell_type": "markdown",
   "metadata": {},
   "source": [
    "# PARTE A. Perceptron - Conjunto de dados Iris"
   ]
  },
  {
   "cell_type": "code",
   "execution_count": 1,
   "metadata": {},
   "outputs": [
    {
     "data": {
      "text/html": [
       "<div>\n",
       "<style scoped>\n",
       "    .dataframe tbody tr th:only-of-type {\n",
       "        vertical-align: middle;\n",
       "    }\n",
       "\n",
       "    .dataframe tbody tr th {\n",
       "        vertical-align: top;\n",
       "    }\n",
       "\n",
       "    .dataframe thead th {\n",
       "        text-align: right;\n",
       "    }\n",
       "</style>\n",
       "<table border=\"1\" class=\"dataframe\">\n",
       "  <thead>\n",
       "    <tr style=\"text-align: right;\">\n",
       "      <th></th>\n",
       "      <th>sepal-length</th>\n",
       "      <th>petal-length</th>\n",
       "    </tr>\n",
       "  </thead>\n",
       "  <tbody>\n",
       "    <tr>\n",
       "      <th>0</th>\n",
       "      <td>5.1</td>\n",
       "      <td>1.4</td>\n",
       "    </tr>\n",
       "    <tr>\n",
       "      <th>1</th>\n",
       "      <td>4.9</td>\n",
       "      <td>1.4</td>\n",
       "    </tr>\n",
       "    <tr>\n",
       "      <th>2</th>\n",
       "      <td>4.7</td>\n",
       "      <td>1.3</td>\n",
       "    </tr>\n",
       "    <tr>\n",
       "      <th>3</th>\n",
       "      <td>4.6</td>\n",
       "      <td>1.5</td>\n",
       "    </tr>\n",
       "    <tr>\n",
       "      <th>4</th>\n",
       "      <td>5.0</td>\n",
       "      <td>1.4</td>\n",
       "    </tr>\n",
       "  </tbody>\n",
       "</table>\n",
       "</div>"
      ],
      "text/plain": [
       "   sepal-length  petal-length\n",
       "0           5.1           1.4\n",
       "1           4.9           1.4\n",
       "2           4.7           1.3\n",
       "3           4.6           1.5\n",
       "4           5.0           1.4"
      ]
     },
     "execution_count": 1,
     "metadata": {},
     "output_type": "execute_result"
    }
   ],
   "source": [
    "import pandas as pd\n",
    "\n",
    "Xy = pd.read_csv('./datasets/iris_adapted_mcp.csv')\n",
    "\n",
    "X = Xy.drop(['sepal-width', 'petal-width', 'class'], axis = 1)\n",
    "y = Xy['class']\n",
    "\n",
    "X.head()"
   ]
  },
  {
   "cell_type": "markdown",
   "metadata": {},
   "source": [
    "# Separando os dados de treino e teste"
   ]
  },
  {
   "cell_type": "code",
   "execution_count": 2,
   "metadata": {},
   "outputs": [],
   "source": [
    "from sklearn.model_selection import train_test_split\n",
    "\n",
    "X_train, X_test, y_train, y_test = train_test_split(X, y, test_size = 0.2)"
   ]
  },
  {
   "cell_type": "markdown",
   "metadata": {},
   "source": [
    "# Normalizando os dados de treino"
   ]
  },
  {
   "cell_type": "code",
   "execution_count": 3,
   "metadata": {},
   "outputs": [],
   "source": [
    "from sklearn.preprocessing import StandardScaler\n",
    "\n",
    "X_train_scaler = StandardScaler().fit_transform(X_train)\n",
    "X_train_scaler = pd.DataFrame(X_train_scaler, columns = X_train.columns) # convertendo para DF"
   ]
  },
  {
   "cell_type": "markdown",
   "metadata": {},
   "source": [
    "# Treinando MCP com dados de treino normalizados"
   ]
  },
  {
   "cell_type": "code",
   "execution_count": 4,
   "metadata": {},
   "outputs": [
    {
     "data": {
      "text/plain": [
       "0.7"
      ]
     },
     "execution_count": 4,
     "metadata": {},
     "output_type": "execute_result"
    }
   ],
   "source": [
    "from mcp.mcp import MCP\n",
    "\n",
    "cls_mcp = MCP()\n",
    "cls_mcp.fit(X_train_scaler, y_train)\n",
    "cls_mcp.score(X_test, y_test)"
   ]
  },
  {
   "cell_type": "markdown",
   "metadata": {},
   "source": [
    "# Matriz de confusão"
   ]
  },
  {
   "cell_type": "code",
   "execution_count": 5,
   "metadata": {},
   "outputs": [
    {
     "data": {
      "text/plain": [
       "array([[10,  0,  3],\n",
       "       [ 0,  0,  6],\n",
       "       [ 0,  0, 11]])"
      ]
     },
     "execution_count": 5,
     "metadata": {},
     "output_type": "execute_result"
    }
   ],
   "source": [
    "from sklearn.metrics import confusion_matrix\n",
    "\n",
    "y_pred = [\n",
    "    cls_mcp.predict(x)\n",
    "    for x in X_test.values\n",
    "]\n",
    "\n",
    "conf_matrix = confusion_matrix(y_test, y_pred)\n",
    "''' \n",
    "...\n",
    "'''\n",
    "conf_matrix"
   ]
  },
  {
   "cell_type": "markdown",
   "metadata": {},
   "source": [
    "# Superfície de decisão das amostras e retas produzidas pelo vetor de pesos"
   ]
  },
  {
   "cell_type": "code",
   "execution_count": 28,
   "metadata": {},
   "outputs": [
    {
     "data": {
      "image/png": "[encoded data removed]",
      "text/plain": [
       "<Figure size 432x288 with 1 Axes>"
      ]
     },
     "metadata": {
      "needs_background": "light"
     },
     "output_type": "display_data"
    }
   ],
   "source": [
    "from matplotlib import pyplot as plt\n",
    "from sklearn.preprocessing import StandardScaler\n",
    "import numpy as np\n",
    "\n",
    "data = X_train_scaler[:][:].values\n",
    "percetrons_weights = cls_mcp.get_weights()\n",
    "\n",
    "x_ax = np.arange(data[: ,0].min()-1, data[: ,1].max()+1, 0.1)\n",
    "w1 = percetrons_weights[0][1]\n",
    "w2 = percetrons_weights[0][2]\n",
    "b = percetrons_weights[0][0]\n",
    "plt.plot(x_ax, -w1*x_ax/w2 + b/w2, color='red')\n",
    "\n",
    "w1 = percetrons_weights[1][1]\n",
    "w2 = percetrons_weights[1][2]\n",
    "b = percetrons_weights[1][0]\n",
    "plt.plot(x_ax, -w1*x_ax/w2 + b/w2, color='blue')\n",
    "\n",
    "\n",
    "w1 = percetrons_weights[2][1]\n",
    "w2 = percetrons_weights[2][2]\n",
    "b = percetrons_weights[2][0]\n",
    "plt.plot(x_ax, -w1*x_ax/w2 + b/w2, color='green')\n",
    "\n",
    "setosa = np.where(y_train == 'Iris-setosa')\n",
    "versicolor = np.where(y_train == 'Iris-versicolor')\n",
    "virginica = np.where(y_train == 'Iris-virginica')\n",
    "plt.scatter(data[setosa, 0], data[setosa, 1],\n",
    "            color='red', marker='o', label='setosa')\n",
    "plt.scatter(data[versicolor, 0], data[versicolor, 1],\n",
    "            color='blue', marker='x', label='versicolor')\n",
    "plt.scatter(data[virginica, 0], data[virginica, 1],\n",
    "            color='green', marker='^', label='virginica')\n",
    "\n",
    "plt.show()"
   ]
  },
  {
   "cell_type": "markdown",
   "metadata": {},
   "source": [
    "# PARTE B. Rede Perceptron - Conjunto de dados Coluna Vertebral "
   ]
  },
  {
   "cell_type": "code",
   "execution_count": 76,
   "metadata": {},
   "outputs": [
    {
     "data": {
      "text/html": [
       "<div>\n",
       "<style scoped>\n",
       "    .dataframe tbody tr th:only-of-type {\n",
       "        vertical-align: middle;\n",
       "    }\n",
       "\n",
       "    .dataframe tbody tr th {\n",
       "        vertical-align: top;\n",
       "    }\n",
       "\n",
       "    .dataframe thead th {\n",
       "        text-align: right;\n",
       "    }\n",
       "</style>\n",
       "<table border=\"1\" class=\"dataframe\">\n",
       "  <thead>\n",
       "    <tr style=\"text-align: right;\">\n",
       "      <th></th>\n",
       "      <th>0</th>\n",
       "      <th>1</th>\n",
       "    </tr>\n",
       "  </thead>\n",
       "  <tbody>\n",
       "    <tr>\n",
       "      <th>0</th>\n",
       "      <td>63.03</td>\n",
       "      <td>22.55</td>\n",
       "    </tr>\n",
       "    <tr>\n",
       "      <th>1</th>\n",
       "      <td>39.06</td>\n",
       "      <td>10.06</td>\n",
       "    </tr>\n",
       "    <tr>\n",
       "      <th>2</th>\n",
       "      <td>68.83</td>\n",
       "      <td>22.22</td>\n",
       "    </tr>\n",
       "    <tr>\n",
       "      <th>3</th>\n",
       "      <td>69.30</td>\n",
       "      <td>24.65</td>\n",
       "    </tr>\n",
       "    <tr>\n",
       "      <th>4</th>\n",
       "      <td>49.71</td>\n",
       "      <td>9.65</td>\n",
       "    </tr>\n",
       "  </tbody>\n",
       "</table>\n",
       "</div>"
      ],
      "text/plain": [
       "       0      1\n",
       "0  63.03  22.55\n",
       "1  39.06  10.06\n",
       "2  68.83  22.22\n",
       "3  69.30  24.65\n",
       "4  49.71   9.65"
      ]
     },
     "execution_count": 76,
     "metadata": {},
     "output_type": "execute_result"
    }
   ],
   "source": [
    "import pandas as pd\n",
    "\n",
    "Xy = pd.read_csv('./datasets/column_2C.dat', header=None, sep=' ', engine='python')\n",
    "\n",
    "X = Xy.drop(Xy.columns[2:], axis=1)\n",
    "y = Xy[Xy.columns[-1]]\n",
    "\n",
    "X.head()"
   ]
  },
  {
   "cell_type": "markdown",
   "metadata": {},
   "source": [
    "# Separando os dados de treino e teste"
   ]
  },
  {
   "cell_type": "code",
   "execution_count": 90,
   "metadata": {},
   "outputs": [],
   "source": [
    "from sklearn.model_selection import train_test_split\n",
    "\n",
    "X_train, X_test, y_train, y_test = train_test_split(X, y, test_size = 0.2)"
   ]
  },
  {
   "cell_type": "markdown",
   "metadata": {},
   "source": [
    "# Normalizando os dados de treino"
   ]
  },
  {
   "cell_type": "code",
   "execution_count": 91,
   "metadata": {},
   "outputs": [],
   "source": [
    "from sklearn.preprocessing import StandardScaler\n",
    "\n",
    "X_train_scaler = StandardScaler().fit_transform(X_train)\n",
    "X_train_scaler = pd.DataFrame(X_train_scaler, columns = X_train.columns) # convertendo para DF"
   ]
  },
  {
   "cell_type": "markdown",
   "metadata": {},
   "source": [
    "# Treinando MCP com dados de treino normalizados"
   ]
  },
  {
   "cell_type": "code",
   "execution_count": 92,
   "metadata": {},
   "outputs": [
    {
     "data": {
      "text/plain": [
       "0.6935483870967742"
      ]
     },
     "execution_count": 92,
     "metadata": {},
     "output_type": "execute_result"
    }
   ],
   "source": [
    "from mcp.mcp import MCP\n",
    "\n",
    "cls_mcp = MCP(num_class=2)\n",
    "cls_mcp.fit(X_train_scaler, y_train)\n",
    "cls_mcp.score(X_test, y_test)"
   ]
  },
  {
   "cell_type": "markdown",
   "metadata": {},
   "source": [
    "# Matriz de confusão"
   ]
  },
  {
   "cell_type": "code",
   "execution_count": 93,
   "metadata": {},
   "outputs": [
    {
     "data": {
      "text/plain": [
       "array([[43,  0],\n",
       "       [19,  0]])"
      ]
     },
     "execution_count": 93,
     "metadata": {},
     "output_type": "execute_result"
    }
   ],
   "source": [
    "from sklearn.metrics import confusion_matrix\n",
    "\n",
    "y_pred = [\n",
    "    cls_mcp.predict(x)\n",
    "    for x in X_test.values\n",
    "]\n",
    "\n",
    "conf_matrix = confusion_matrix(y_test, y_pred)\n",
    "''' \n",
    "...\n",
    "'''\n",
    "conf_matrix"
   ]
  },
  {
   "cell_type": "markdown",
   "metadata": {},
   "source": [
    "# Superfície de decisão das amostras e retas produzidas pelo vetor de pesos"
   ]
  },
  {
   "cell_type": "code",
   "execution_count": 94,
   "metadata": {},
   "outputs": [
    {
     "data": {
      "image/png": "[encoded data removed]",
      "text/plain": [
       "<Figure size 432x288 with 1 Axes>"
      ]
     },
     "metadata": {
      "needs_background": "light"
     },
     "output_type": "display_data"
    }
   ],
   "source": [
    "from matplotlib import pyplot as plt\n",
    "from sklearn.preprocessing import StandardScaler\n",
    "import numpy as np\n",
    "\n",
    "data = X_train_scaler[:][:].values\n",
    "percetrons_weights = cls_mcp.get_weights()\n",
    "\n",
    "x_ax = np.arange(data[: ,0].min()-1, data[: ,1].max()+1, 0.1)\n",
    "w1 = percetrons_weights[0][1]\n",
    "w2 = percetrons_weights[0][2]\n",
    "b = percetrons_weights[0][0]\n",
    "plt.plot(x_ax, -w1*x_ax/w2 + b/w2, color='red')\n",
    "\n",
    "w1 = percetrons_weights[1][1]\n",
    "w2 = percetrons_weights[1][2]\n",
    "b = percetrons_weights[1][0]\n",
    "plt.plot(x_ax, -w1*x_ax/w2 + b/w2, color='blue')\n",
    "\n",
    "ab = np.where(y_train == 'AB')\n",
    "no = np.where(y_train == 'NO')\n",
    "plt.scatter(data[ab, 0], data[ab, 1],\n",
    "            color='red', marker='o', label='ab')\n",
    "plt.scatter(data[no, 0], data[no, 1],\n",
    "            color='blue', marker='x', label='no')\n",
    "\n",
    "plt.show()"
   ]
  },
  {
   "cell_type": "markdown",
   "metadata": {},
   "source": [
    "# Testando com 3 classses"
   ]
  },
  {
   "cell_type": "code",
   "execution_count": 95,
   "metadata": {},
   "outputs": [
    {
     "data": {
      "text/html": [
       "<div>\n",
       "<style scoped>\n",
       "    .dataframe tbody tr th:only-of-type {\n",
       "        vertical-align: middle;\n",
       "    }\n",
       "\n",
       "    .dataframe tbody tr th {\n",
       "        vertical-align: top;\n",
       "    }\n",
       "\n",
       "    .dataframe thead th {\n",
       "        text-align: right;\n",
       "    }\n",
       "</style>\n",
       "<table border=\"1\" class=\"dataframe\">\n",
       "  <thead>\n",
       "    <tr style=\"text-align: right;\">\n",
       "      <th></th>\n",
       "      <th>0</th>\n",
       "      <th>1</th>\n",
       "    </tr>\n",
       "  </thead>\n",
       "  <tbody>\n",
       "    <tr>\n",
       "      <th>0</th>\n",
       "      <td>63.03</td>\n",
       "      <td>22.55</td>\n",
       "    </tr>\n",
       "    <tr>\n",
       "      <th>1</th>\n",
       "      <td>39.06</td>\n",
       "      <td>10.06</td>\n",
       "    </tr>\n",
       "    <tr>\n",
       "      <th>2</th>\n",
       "      <td>68.83</td>\n",
       "      <td>22.22</td>\n",
       "    </tr>\n",
       "    <tr>\n",
       "      <th>3</th>\n",
       "      <td>69.30</td>\n",
       "      <td>24.65</td>\n",
       "    </tr>\n",
       "    <tr>\n",
       "      <th>4</th>\n",
       "      <td>49.71</td>\n",
       "      <td>9.65</td>\n",
       "    </tr>\n",
       "  </tbody>\n",
       "</table>\n",
       "</div>"
      ],
      "text/plain": [
       "       0      1\n",
       "0  63.03  22.55\n",
       "1  39.06  10.06\n",
       "2  68.83  22.22\n",
       "3  69.30  24.65\n",
       "4  49.71   9.65"
      ]
     },
     "execution_count": 95,
     "metadata": {},
     "output_type": "execute_result"
    }
   ],
   "source": [
    "import pandas as pd\n",
    "\n",
    "Xy = pd.read_csv('./datasets/column_3C.dat', header=None, sep=' ', engine='python')\n",
    "\n",
    "X = Xy.drop(Xy.columns[2:], axis=1)\n",
    "y = Xy[Xy.columns[-1]]\n",
    "\n",
    "X.head()"
   ]
  },
  {
   "cell_type": "markdown",
   "metadata": {},
   "source": [
    "# Separando os dados de treino e teste"
   ]
  },
  {
   "cell_type": "code",
   "execution_count": 96,
   "metadata": {},
   "outputs": [],
   "source": [
    "from sklearn.model_selection import train_test_split\n",
    "\n",
    "X_train, X_test, y_train, y_test = train_test_split(X, y, test_size = 0.2)"
   ]
  },
  {
   "cell_type": "markdown",
   "metadata": {},
   "source": [
    "# Normalizando os dados de treino"
   ]
  },
  {
   "cell_type": "code",
   "execution_count": 97,
   "metadata": {},
   "outputs": [],
   "source": [
    "from sklearn.preprocessing import StandardScaler\n",
    "\n",
    "X_train_scaler = StandardScaler().fit_transform(X_train)\n",
    "X_train_scaler = pd.DataFrame(X_train_scaler, columns = X_train.columns) # convertendo para DF"
   ]
  },
  {
   "cell_type": "markdown",
   "metadata": {},
   "source": [
    "# Treinando MCP com dados de treino normalizados"
   ]
  },
  {
   "cell_type": "code",
   "execution_count": 98,
   "metadata": {},
   "outputs": [
    {
     "data": {
      "text/plain": [
       "0.5483870967741935"
      ]
     },
     "execution_count": 98,
     "metadata": {},
     "output_type": "execute_result"
    }
   ],
   "source": [
    "from mcp.mcp import MCP\n",
    "\n",
    "cls_mcp = MCP()\n",
    "cls_mcp.fit(X_train_scaler, y_train)\n",
    "cls_mcp.score(X_test, y_test)"
   ]
  },
  {
   "cell_type": "markdown",
   "metadata": {},
   "source": [
    "# Matriz de confusão"
   ]
  },
  {
   "cell_type": "code",
   "execution_count": 99,
   "metadata": {},
   "outputs": [
    {
     "data": {
      "text/plain": [
       "array([[ 0,  0, 11],\n",
       "       [ 0,  0, 17],\n",
       "       [ 0,  0, 34]])"
      ]
     },
     "execution_count": 99,
     "metadata": {},
     "output_type": "execute_result"
    }
   ],
   "source": [
    "from sklearn.metrics import confusion_matrix\n",
    "\n",
    "y_pred = [\n",
    "    cls_mcp.predict(x)\n",
    "    for x in X_test.values\n",
    "]\n",
    "\n",
    "conf_matrix = confusion_matrix(y_test, y_pred)\n",
    "''' \n",
    "...\n",
    "'''\n",
    "conf_matrix"
   ]
  },
  {
   "cell_type": "markdown",
   "metadata": {},
   "source": [
    "# Superfície de decisão das amostras e retas produzidas pelo vetor de pesos"
   ]
  },
  {
   "cell_type": "code",
   "execution_count": 101,
   "metadata": {},
   "outputs": [
    {
     "data": {
      "image/png": "[encoded data removed]",
      "text/plain": [
       "<Figure size 432x288 with 1 Axes>"
      ]
     },
     "metadata": {
      "needs_background": "light"
     },
     "output_type": "display_data"
    }
   ],
   "source": [
    "from matplotlib import pyplot as plt\n",
    "from sklearn.preprocessing import StandardScaler\n",
    "import numpy as np\n",
    "\n",
    "data = X_train_scaler[:][:].values\n",
    "percetrons_weights = cls_mcp.get_weights()\n",
    "\n",
    "x_ax = np.arange(data[: ,0].min()-1, data[: ,1].max()+1, 0.1)\n",
    "w1 = percetrons_weights[0][1]\n",
    "w2 = percetrons_weights[0][2]\n",
    "b = percetrons_weights[0][0]\n",
    "plt.plot(x_ax, -w1*x_ax/w2 + b/w2, color='red')\n",
    "\n",
    "w1 = percetrons_weights[1][1]\n",
    "w2 = percetrons_weights[1][2]\n",
    "b = percetrons_weights[1][0]\n",
    "plt.plot(x_ax, -w1*x_ax/w2 + b/w2, color='blue')\n",
    "\n",
    "\n",
    "w1 = percetrons_weights[2][1]\n",
    "w2 = percetrons_weights[2][2]\n",
    "b = percetrons_weights[2][0]\n",
    "plt.plot(x_ax, -w1*x_ax/w2 + b/w2, color='green')\n",
    "\n",
    "dh = np.where(y_train == 'DH')\n",
    "sl = np.where(y_train == 'SL')\n",
    "no = np.where(y_train == 'NO')\n",
    "plt.scatter(data[dh, 0], data[dh, 1],\n",
    "            color='red', marker='o', label='dh')\n",
    "plt.scatter(data[sl, 0], data[sl, 1],\n",
    "            color='blue', marker='x', label='sl')\n",
    "plt.scatter(data[no, 0], data[no, 1],\n",
    "            color='green', marker='^', label='no')\n",
    "\n",
    "plt.show()"
   ]
  },
  {
   "cell_type": "markdown",
   "metadata": {},
   "source": [
    "# PARTE C. Adaline - Conjunto de dados de Construção Residencial"
   ]
  },
  {
   "cell_type": "code",
   "execution_count": 56,
   "metadata": {},
   "outputs": [
    {
     "data": {
      "text/html": [
       "<div>\n",
       "<style scoped>\n",
       "    .dataframe tbody tr th:only-of-type {\n",
       "        vertical-align: middle;\n",
       "    }\n",
       "\n",
       "    .dataframe tbody tr th {\n",
       "        vertical-align: top;\n",
       "    }\n",
       "\n",
       "    .dataframe thead th {\n",
       "        text-align: right;\n",
       "    }\n",
       "</style>\n",
       "<table border=\"1\" class=\"dataframe\">\n",
       "  <thead>\n",
       "    <tr style=\"text-align: right;\">\n",
       "      <th></th>\n",
       "      <th>START YEAR</th>\n",
       "      <th>START QUARTER</th>\n",
       "      <th>COMPLETION YEAR</th>\n",
       "      <th>COMPLETION QUARTER</th>\n",
       "      <th>V-1</th>\n",
       "      <th>V-2</th>\n",
       "      <th>V-3</th>\n",
       "      <th>V-4</th>\n",
       "      <th>V-5</th>\n",
       "      <th>V-6</th>\n",
       "      <th>...</th>\n",
       "      <th>V-20.4</th>\n",
       "      <th>V-21.4</th>\n",
       "      <th>V-22.4</th>\n",
       "      <th>V-23.4</th>\n",
       "      <th>V-24.4</th>\n",
       "      <th>V-25.4</th>\n",
       "      <th>V-26.4</th>\n",
       "      <th>V-27.4</th>\n",
       "      <th>V-28.4</th>\n",
       "      <th>V-29.4</th>\n",
       "    </tr>\n",
       "  </thead>\n",
       "  <tbody>\n",
       "    <tr>\n",
       "      <th>0</th>\n",
       "      <td>81</td>\n",
       "      <td>1</td>\n",
       "      <td>85</td>\n",
       "      <td>1</td>\n",
       "      <td>1</td>\n",
       "      <td>3150.0</td>\n",
       "      <td>920.0</td>\n",
       "      <td>598.5</td>\n",
       "      <td>190</td>\n",
       "      <td>1010.84</td>\n",
       "      <td>...</td>\n",
       "      <td>15</td>\n",
       "      <td>733.800000</td>\n",
       "      <td>815.50</td>\n",
       "      <td>1755.00</td>\n",
       "      <td>8002.0</td>\n",
       "      <td>60.74</td>\n",
       "      <td>54.26</td>\n",
       "      <td>2978.26</td>\n",
       "      <td>41407.0</td>\n",
       "      <td>601988.1</td>\n",
       "    </tr>\n",
       "    <tr>\n",
       "      <th>1</th>\n",
       "      <td>84</td>\n",
       "      <td>1</td>\n",
       "      <td>89</td>\n",
       "      <td>4</td>\n",
       "      <td>1</td>\n",
       "      <td>7600.0</td>\n",
       "      <td>1140.0</td>\n",
       "      <td>3040.0</td>\n",
       "      <td>400</td>\n",
       "      <td>963.81</td>\n",
       "      <td>...</td>\n",
       "      <td>15</td>\n",
       "      <td>1143.800000</td>\n",
       "      <td>1316.30</td>\n",
       "      <td>8364.78</td>\n",
       "      <td>8393.0</td>\n",
       "      <td>90.95</td>\n",
       "      <td>89.79</td>\n",
       "      <td>11379.37</td>\n",
       "      <td>44835.0</td>\n",
       "      <td>929027.1</td>\n",
       "    </tr>\n",
       "    <tr>\n",
       "      <th>2</th>\n",
       "      <td>78</td>\n",
       "      <td>1</td>\n",
       "      <td>81</td>\n",
       "      <td>4</td>\n",
       "      <td>1</td>\n",
       "      <td>4800.0</td>\n",
       "      <td>840.0</td>\n",
       "      <td>480.0</td>\n",
       "      <td>100</td>\n",
       "      <td>689.84</td>\n",
       "      <td>...</td>\n",
       "      <td>15</td>\n",
       "      <td>589.500000</td>\n",
       "      <td>765.80</td>\n",
       "      <td>1755.00</td>\n",
       "      <td>4930.0</td>\n",
       "      <td>38.70</td>\n",
       "      <td>32.04</td>\n",
       "      <td>1653.06</td>\n",
       "      <td>37933.0</td>\n",
       "      <td>377828.6</td>\n",
       "    </tr>\n",
       "    <tr>\n",
       "      <th>3</th>\n",
       "      <td>72</td>\n",
       "      <td>2</td>\n",
       "      <td>73</td>\n",
       "      <td>2</td>\n",
       "      <td>1</td>\n",
       "      <td>685.0</td>\n",
       "      <td>202.0</td>\n",
       "      <td>13.7</td>\n",
       "      <td>20</td>\n",
       "      <td>459.54</td>\n",
       "      <td>...</td>\n",
       "      <td>12</td>\n",
       "      <td>197.679557</td>\n",
       "      <td>152.25</td>\n",
       "      <td>1442.31</td>\n",
       "      <td>1456.0</td>\n",
       "      <td>9.73</td>\n",
       "      <td>8.34</td>\n",
       "      <td>686.16</td>\n",
       "      <td>8194.0</td>\n",
       "      <td>122031.7</td>\n",
       "    </tr>\n",
       "    <tr>\n",
       "      <th>4</th>\n",
       "      <td>87</td>\n",
       "      <td>1</td>\n",
       "      <td>90</td>\n",
       "      <td>2</td>\n",
       "      <td>1</td>\n",
       "      <td>3000.0</td>\n",
       "      <td>800.0</td>\n",
       "      <td>1230.0</td>\n",
       "      <td>410</td>\n",
       "      <td>631.91</td>\n",
       "      <td>...</td>\n",
       "      <td>14</td>\n",
       "      <td>2220.600000</td>\n",
       "      <td>2244.10</td>\n",
       "      <td>9231.76</td>\n",
       "      <td>9286.0</td>\n",
       "      <td>136.60</td>\n",
       "      <td>140.20</td>\n",
       "      <td>9821.00</td>\n",
       "      <td>48260.0</td>\n",
       "      <td>1734973.5</td>\n",
       "    </tr>\n",
       "  </tbody>\n",
       "</table>\n",
       "<p>5 rows × 107 columns</p>\n",
       "</div>"
      ],
      "text/plain": [
       "   START YEAR  START QUARTER  COMPLETION YEAR  COMPLETION QUARTER  V-1  \\\n",
       "0          81              1               85                   1    1   \n",
       "1          84              1               89                   4    1   \n",
       "2          78              1               81                   4    1   \n",
       "3          72              2               73                   2    1   \n",
       "4          87              1               90                   2    1   \n",
       "\n",
       "      V-2     V-3     V-4  V-5      V-6  ...  V-20.4       V-21.4   V-22.4  \\\n",
       "0  3150.0   920.0   598.5  190  1010.84  ...      15   733.800000   815.50   \n",
       "1  7600.0  1140.0  3040.0  400   963.81  ...      15  1143.800000  1316.30   \n",
       "2  4800.0   840.0   480.0  100   689.84  ...      15   589.500000   765.80   \n",
       "3   685.0   202.0    13.7   20   459.54  ...      12   197.679557   152.25   \n",
       "4  3000.0   800.0  1230.0  410   631.91  ...      14  2220.600000  2244.10   \n",
       "\n",
       "    V-23.4  V-24.4  V-25.4  V-26.4    V-27.4   V-28.4     V-29.4  \n",
       "0  1755.00  8002.0   60.74   54.26   2978.26  41407.0   601988.1  \n",
       "1  8364.78  8393.0   90.95   89.79  11379.37  44835.0   929027.1  \n",
       "2  1755.00  4930.0   38.70   32.04   1653.06  37933.0   377828.6  \n",
       "3  1442.31  1456.0    9.73    8.34    686.16   8194.0   122031.7  \n",
       "4  9231.76  9286.0  136.60  140.20   9821.00  48260.0  1734973.5  \n",
       "\n",
       "[5 rows x 107 columns]"
      ]
     },
     "execution_count": 56,
     "metadata": {},
     "output_type": "execute_result"
    }
   ],
   "source": [
    "import pandas as pd\n",
    "\n",
    "Xy = pd.read_excel('./datasets/residential_building.xlsx')\n",
    "\n",
    "X = Xy.drop(Xy.columns[len(Xy.columns) - 2:], axis=1)\n",
    "y_1 = Xy[Xy.columns[len(Xy.columns) - 2]]\n",
    "y_2 = Xy[Xy.columns[-1]]\n",
    "\n",
    "X.head()"
   ]
  },
  {
   "cell_type": "markdown",
   "metadata": {},
   "source": [
    "# Separando os dados de treino e teste"
   ]
  },
  {
   "cell_type": "code",
   "execution_count": 58,
   "metadata": {},
   "outputs": [],
   "source": [
    "from sklearn.model_selection import train_test_split\n",
    "\n",
    "X_train, X_test, y_1_train, y_1_test = train_test_split(X, y_1, test_size = 0.2)\n",
    "y_2_train = y_2[y_1_train.index]\n",
    "y_2_test = y_2[y_1_test.index]"
   ]
  },
  {
   "cell_type": "markdown",
   "metadata": {},
   "source": [
    "# Treinando o MCA com os dados de treino"
   ]
  },
  {
   "cell_type": "code",
   "execution_count": 60,
   "metadata": {},
   "outputs": [],
   "source": [
    "from mca.mca import MCA\n",
    "\n",
    "cls_mca = MCA(num_class=2)\n",
    "cls_mca.fit(X_train, [y_1_train, y_2_train])"
   ]
  }
 ],
 "metadata": {
  "interpreter": {
   "hash": "066319d59563df4d7b7ff95868acd23b39837f45dba0073c0261622f7803f98f"
  },
  "kernelspec": {
   "display_name": "Python 3.8.10 64-bit ('.venv': venv)",
   "language": "python",
   "name": "python3"
  },
  "language_info": {
   "codemirror_mode": {
    "name": "ipython",
    "version": 3
   },
   "file_extension": ".py",
   "mimetype": "text/x-python",
   "name": "python",
   "nbconvert_exporter": "python",
   "pygments_lexer": "ipython3",
   "version": "3.8.10"
  },
  "orig_nbformat": 4
 },
 "nbformat": 4,
 "nbformat_minor": 2
}
